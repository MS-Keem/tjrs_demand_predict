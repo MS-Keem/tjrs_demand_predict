{
 "cells": [
  {
   "cell_type": "code",
   "execution_count": null,
   "metadata": {},
   "outputs": [],
   "source": [
    "##########################################################################\n",
    "######################                              ######################\n",
    "######################        main 함수 파트        ######################\n",
    "######################                              ######################\n",
    "##########################################################################\n",
    "\n",
    "\"\"\"\n",
    "Created on Mon Aug 8 07:24:33 2022\n",
    "\n",
    "@authon : msKeem\n",
    "\"\"\"\n",
    "import import_ipynb\n",
    "import os\n",
    "import matplotlib.pyplot as plt\n",
    "\n",
    "from wow_preprocess_data import *\n",
    "from wow_feature_data import *\n",
    "from wow_catboost_model import *\n",
    "\n",
    "# 데이터 경로\n",
    "os.chdir('../')\n",
    "# 포스 데이터 경로\n",
    "pos_path = os.path.join(os.getcwd(), 'wow_data', 'odr (2).csv')\n",
    "# 기상 데이터 경로\n",
    "weather_path = os.path.join(os.getcwd(), 'wow_data', 'weather.csv')\n",
    "# 공휴의 데이터 경로\n",
    "holiday_path = os.path.join(os.getcwd(), 'wow_data', 'holiday.csv')\n",
    "\n",
    "\n",
    "if __name__ == \"__main__\":\n",
    "    \"\"\"\n",
    "    This is main function\n",
    "    \n",
    "    You can get predict result about Toujours sales count\n",
    "    \"\"\"\n",
    "    # 포스 데이터\n",
    "    pos_data = pos_data(pos_path)\n",
    "    \n",
    "    # 날씨,공휴일 데이터\n",
    "    weather_holiday_data = weather_holiday(weather_path, holiday_path)\n",
    "    \n",
    "    # merge 포스 , 날씨 , 공휴일\n",
    "    merge_data = merge_data(pos_data, weather_holiday_data)\n",
    "    \n",
    "    # feature engineering\n",
    "    feat_data, cat_features = feature_engineering(merge_data)\n",
    "    \n",
    "    # model train / result\n",
    "    result = catboost_model(feat_data, cat_features)\n",
    "\n",
    "    \n",
    "#hahahah"
   ]
  }
 ],
 "metadata": {
  "kernelspec": {
   "display_name": "Python [conda env:ocr_sys]",
   "language": "python",
   "name": "conda-env-ocr_sys-py"
  },
  "language_info": {
   "codemirror_mode": {
    "name": "ipython",
    "version": 3
   },
   "file_extension": ".py",
   "mimetype": "text/x-python",
   "name": "python",
   "nbconvert_exporter": "python",
   "pygments_lexer": "ipython3",
   "version": "3.7.7"
  }
 },
 "nbformat": 4,
 "nbformat_minor": 4
}
